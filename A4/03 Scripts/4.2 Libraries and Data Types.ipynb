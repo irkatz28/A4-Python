{
 "cells": [
  {
   "cell_type": "markdown",
   "id": "f3cd96de",
   "metadata": {},
   "source": [
    "#01. Import Libraries"
   ]
  },
  {
   "cell_type": "code",
   "execution_count": null,
   "id": "bcd277c2",
   "metadata": {},
   "outputs": [],
   "source": [
    "# Import Libraries\n",
    "import pandas as pd\n",
    "import numpy as np\n",
    "import os"
   ]
  },
  {
   "cell_type": "markdown",
   "id": "79dc24e4",
   "metadata": {},
   "source": [
    "#Data Types"
   ]
  },
  {
   "cell_type": "code",
   "execution_count": 12,
   "id": "abfa3810",
   "metadata": {
    "scrolled": true
   },
   "outputs": [
    {
     "data": {
      "text/plain": [
       "100"
      ]
     },
     "execution_count": 12,
     "metadata": {},
     "output_type": "execute_result"
    }
   ],
   "source": [
    "x=40\n",
    "y=60\n",
    "x+y"
   ]
  },
  {
   "cell_type": "code",
   "execution_count": 11,
   "id": "ac9f4337",
   "metadata": {
    "scrolled": true
   },
   "outputs": [
    {
     "data": {
      "text/plain": [
       "100"
      ]
     },
     "execution_count": 11,
     "metadata": {},
     "output_type": "execute_result"
    }
   ],
   "source": [
    "y=60\n",
    "y+y-20"
   ]
  },
  {
   "cell_type": "code",
   "execution_count": 10,
   "id": "0d06610d",
   "metadata": {},
   "outputs": [
    {
     "data": {
      "text/plain": [
       "100"
      ]
     },
     "execution_count": 10,
     "metadata": {},
     "output_type": "execute_result"
    }
   ],
   "source": [
    "x=4\n",
    "y=6\n",
    "10* (4+6)"
   ]
  },
  {
   "cell_type": "code",
   "execution_count": 13,
   "id": "21f485fb",
   "metadata": {},
   "outputs": [
    {
     "data": {
      "text/plain": [
       "1.4725000000000001"
      ]
     },
     "execution_count": 13,
     "metadata": {},
     "output_type": "execute_result"
    }
   ],
   "source": [
    "x=2.8\n",
    "y=4.123\n",
    "y/x"
   ]
  },
  {
   "cell_type": "code",
   "execution_count": 14,
   "id": "fc8fdfcc",
   "metadata": {},
   "outputs": [
    {
     "data": {
      "text/plain": [
       "'hamster'"
      ]
     },
     "execution_count": 14,
     "metadata": {},
     "output_type": "execute_result"
    }
   ],
   "source": [
    "x='ham'\n",
    "y='ster'\n",
    "x+y"
   ]
  },
  {
   "cell_type": "code",
   "execution_count": 16,
   "id": "25a78986",
   "metadata": {},
   "outputs": [
    {
     "data": {
      "text/plain": [
       "'i have one hamster'"
      ]
     },
     "execution_count": 16,
     "metadata": {},
     "output_type": "execute_result"
    }
   ],
   "source": [
    "x = \"hamster\"\n",
    "y='i have'\n",
    "z= 'one'\n",
    "y+' '+z+' '+x"
   ]
  },
  {
   "cell_type": "code",
   "execution_count": null,
   "id": "1420fae3",
   "metadata": {},
   "outputs": [],
   "source": []
  }
 ],
 "metadata": {
  "kernelspec": {
   "display_name": "Python 3 (ipykernel)",
   "language": "python",
   "name": "python3"
  },
  "language_info": {
   "codemirror_mode": {
    "name": "ipython",
    "version": 3
   },
   "file_extension": ".py",
   "mimetype": "text/x-python",
   "name": "python",
   "nbconvert_exporter": "python",
   "pygments_lexer": "ipython3",
   "version": "3.11.4"
  }
 },
 "nbformat": 4,
 "nbformat_minor": 5
}
